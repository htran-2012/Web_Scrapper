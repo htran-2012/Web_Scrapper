{
 "cells": [
  {
   "cell_type": "code",
   "execution_count": 1,
   "metadata": {},
   "outputs": [],
   "source": [
    "from urllib.request import urlopen, Request\n",
    "from bs4 import BeautifulSoup\n",
    "from bs4.element import Tag, NavigableString\n"
   ]
  },
  {
   "cell_type": "code",
   "execution_count": 2,
   "metadata": {},
   "outputs": [],
   "source": [
    "url = 'https://www.newegg.com/p/pl?Submit=StoreIM&Depa=1&Category=38'\n",
    "client = urlopen(url)\n",
    "html = client.read()\n",
    "client.close()"
   ]
  },
  {
   "cell_type": "code",
   "execution_count": 3,
   "metadata": {},
   "outputs": [],
   "source": [
    "soup = BeautifulSoup(html, 'lxml')"
   ]
  },
  {
   "cell_type": "code",
   "execution_count": 4,
   "metadata": {},
   "outputs": [],
   "source": [
    "containers = soup.find_all('div', {'class': 'item-container'})"
   ]
  },
  {
   "cell_type": "code",
   "execution_count": 5,
   "metadata": {},
   "outputs": [],
   "source": [
    "filename = 'NewEgg_GraphicCard.csv'\n",
    "f = open(filename, 'w')\n"
   ]
  },
  {
   "cell_type": "code",
   "execution_count": 6,
   "metadata": {},
   "outputs": [
    {
     "data": {
      "text/plain": [
       "52"
      ]
     },
     "execution_count": 6,
     "metadata": {},
     "output_type": "execute_result"
    }
   ],
   "source": [
    "headers = 'brand, ratings, num_of_reviews, product_name, price\\n'\n",
    "f.write(headers)"
   ]
  },
  {
   "cell_type": "code",
   "execution_count": 7,
   "metadata": {},
   "outputs": [],
   "source": [
    "# Loop all products\n",
    "for c in containers:\n",
    "    #Extract brands\n",
    "    brand_tag = c.find('a', {'class':'item-brand'})\n",
    "    brand = brand_tag.img['title']\n",
    "    #print(brand)\n",
    "\n",
    "    #Extract ratings\n",
    "    try:\n",
    "        rating_tag =  c.find('a',{'class':'item-rating'})\n",
    "        rating = rating_tag.i['class'][1]\n",
    "    except:\n",
    "        rating = 'No rating'\n",
    "    #print(rating)\n",
    "        \n",
    "    #Extract number of reviews\n",
    "    try:\n",
    "        num_reviews_tag = c.find('span', {'class':'item-rating-num'})\n",
    "        num_reviews = num_reviews_tag.string[1:-1]\n",
    "    except:\n",
    "        num_reviews = 'No reviews'\n",
    "    #print(num_reviews)\n",
    "    \n",
    "    #Extract product name\n",
    "    product_name_tag = c.find('a', {'class':'item-title'})\n",
    "    product_name = product_name_tag.string.replace(',', '|')\n",
    "    #print(product_name)\n",
    "    \n",
    "    #Extract price\n",
    "    try:\n",
    "        price_tag = c.find('li', {'class': 'price-current'})\n",
    "        price = price_tag.strong.string.replace(',','') + price_tag.sup.string\n",
    "            \n",
    "    except:\n",
    "        price = 'Price not available'\n",
    "        \n",
    "    f.write('{}, {}, {}, {}, {}\\n'.format(brand, rating, num_reviews, product_name, price))\n",
    "    \n",
    "f.close()       "
   ]
  },
  {
   "cell_type": "code",
   "execution_count": null,
   "metadata": {},
   "outputs": [],
   "source": []
  }
 ],
 "metadata": {
  "kernelspec": {
   "display_name": "Python 3",
   "language": "python",
   "name": "python3"
  },
  "language_info": {
   "codemirror_mode": {
    "name": "ipython",
    "version": 3
   },
   "file_extension": ".py",
   "mimetype": "text/x-python",
   "name": "python",
   "nbconvert_exporter": "python",
   "pygments_lexer": "ipython3",
   "version": "3.7.4"
  }
 },
 "nbformat": 4,
 "nbformat_minor": 2
}
