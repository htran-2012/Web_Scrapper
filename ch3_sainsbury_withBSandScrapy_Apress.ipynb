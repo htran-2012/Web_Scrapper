{
 "cells": [
  {
   "cell_type": "code",
   "execution_count": 1,
   "metadata": {},
   "outputs": [],
   "source": [
    "from bs4 import BeautifulSoup\n",
    "import requests\n",
    "from collections import deque\n",
    "from urllib.request import urlparse, urljoin\n",
    "import re\n",
    "import csv\n",
    "import json\n",
    "import time"
   ]
  },
  {
   "cell_type": "code",
   "execution_count": 2,
   "metadata": {},
   "outputs": [],
   "source": [
    "url = 'https://www.sainsburys.co.uk/shop/gb/groceries/meat-fish'"
   ]
  },
  {
   "cell_type": "markdown",
   "metadata": {},
   "source": [
    "#### 1. Get Soup Object"
   ]
  },
  {
   "cell_type": "code",
   "execution_count": 3,
   "metadata": {},
   "outputs": [],
   "source": [
    "def get_page(url):\n",
    "    try:\n",
    "        r = requests.get(url)\n",
    "        if r.status_code == 200:\n",
    "            return(BeautifulSoup(r.content, 'html.parser'))\n",
    "    except Exception as e:\n",
    "        pass\n",
    "    return None"
   ]
  },
  {
   "cell_type": "code",
   "execution_count": 5,
   "metadata": {
    "scrolled": false
   },
   "outputs": [],
   "source": [
    "#test if this works\n",
    "s = get_page(url)\n",
    "#s"
   ]
  },
  {
   "cell_type": "markdown",
   "metadata": {},
   "source": [
    "#### 2. Extract all department link"
   ]
  },
  {
   "cell_type": "code",
   "execution_count": 6,
   "metadata": {},
   "outputs": [],
   "source": [
    "def extract_department_links(url):\n",
    "    links = []\n",
    "    soup = get_page(url)\n",
    "    time.sleep(2)\n",
    "    ul = soup.find('ul', class_='categories departments')\n",
    "    if not ul:\n",
    "        return links\n",
    "    for li in ul.find_all('li'):\n",
    "        a = li.find('a', href=True)\n",
    "        if a:\n",
    "            links.append(a['href'])\n",
    "    return links"
   ]
  },
  {
   "cell_type": "code",
   "execution_count": 7,
   "metadata": {
    "scrolled": true
   },
   "outputs": [
    {
     "data": {
      "text/plain": [
       "['https://www.sainsburys.co.uk/shop/gb/groceries/meat-fish/meatandfish-essentials',\n",
       " 'https://www.sainsburys.co.uk/shop/gb/groceries/meat-fish/discover-meatandfish',\n",
       " 'https://www.sainsburys.co.uk/shop/gb/groceries/meat-fish/meat-and-fish-price-lockdown',\n",
       " 'https://www.sainsburys.co.uk/shop/gb/groceries/meat-fish/bbq',\n",
       " 'https://www.sainsburys.co.uk/shop/gb/groceries/meat-fish/build-a-roast-dinner',\n",
       " 'https://www.sainsburys.co.uk/shop/gb/groceries/meat-fish/chicken---turkey',\n",
       " 'https://www.sainsburys.co.uk/shop/gb/groceries/meat-fish/bacon-sausages',\n",
       " 'https://www.sainsburys.co.uk/shop/gb/groceries/meat-fish/ham--deli-meats---dips',\n",
       " 'https://www.sainsburys.co.uk/shop/gb/groceries/meat-fish/pork',\n",
       " 'https://www.sainsburys.co.uk/shop/gb/groceries/meat-fish/fish-seafood',\n",
       " 'https://www.sainsburys.co.uk/shop/gb/groceries/meat-fish/beef',\n",
       " 'https://www.sainsburys.co.uk/shop/gb/groceries/meat-fish/lamb',\n",
       " 'https://www.sainsburys.co.uk/shop/gb/groceries/meat-fish/ready-to-cook-314359-44',\n",
       " 'https://www.sainsburys.co.uk/shop/gb/groceries/meat-fish/mince',\n",
       " 'https://www.sainsburys.co.uk/shop/gb/groceries/meat-fish/turkey-44',\n",
       " 'https://www.sainsburys.co.uk/shop/gb/groceries/meat-fish/duck--game---venison',\n",
       " 'https://www.sainsburys.co.uk/shop/gb/groceries/meat-fish/meat-free-',\n",
       " 'https://www.sainsburys.co.uk/shop/gb/groceries/meat-fish/sauces--marinades---yorkshire-puddings-310901-44']"
      ]
     },
     "execution_count": 7,
     "metadata": {},
     "output_type": "execute_result"
    }
   ],
   "source": [
    "department_links = extract_department_links(url)\n",
    "department_links"
   ]
  },
  {
   "cell_type": "markdown",
   "metadata": {},
   "source": [
    "#### 3. Extract product pages link (after processing secondary shelf links)"
   ]
  },
  {
   "cell_type": "code",
   "execution_count": 8,
   "metadata": {},
   "outputs": [],
   "source": [
    "def extract_links_to_product_pages(department_links):\n",
    "\n",
    "    # create a list of product pages(which don't have intermediate pages)\n",
    "    # create a queue list which will loop through all links\n",
    "    mainpage = 'https://www.sainsburys.co.uk/'\n",
    "    product_pages = []\n",
    "    visited = set()\n",
    "    queue= deque()\n",
    "    queue.extend(department_links)\n",
    "    \n",
    "    while queue:\n",
    "        #take each link\n",
    "        link = queue.popleft()\n",
    "        \n",
    "        #if link is already visited, don't check that link again, go back to while loop\n",
    "        if link in visited:\n",
    "            continue\n",
    "        # if link not in visited, add it into visited\n",
    "        visited.add(link)\n",
    "    \n",
    "        # get the soup obj of the unvisited link\n",
    "        soup = get_page(link)\n",
    "        time.sleep(3)\n",
    "        \n",
    "        # find if there's the product grid in soup\n",
    "        ul = soup.find('ul', class_ = 'productLister gridView')\n",
    "        # if there's the product grid, that's the product page, append it\n",
    "        if ul:\n",
    "            product_pages.append(link)\n",
    "            \n",
    "        # if there's no product grid, check to see if there's an extra shelf\n",
    "        else:\n",
    "            ul = soup.find('ul', class_ = 'categories aisles')\n",
    "            # this line to exclude any exception, if cannot find anything, go back to while loop\n",
    "            if not ul:\n",
    "                continue\n",
    "            # if there's an extra shelf, add it to queue, to continue find the product page_which have the product grid\n",
    "            for li in ul.find_all('li'):\n",
    "                a = li.find('a', href = True)\n",
    "                if a:\n",
    "                    l = urljoin(mainpage,a['href'])\n",
    "                    queue.append(l)\n",
    "    return product_pages"
   ]
  },
  {
   "cell_type": "code",
   "execution_count": 9,
   "metadata": {},
   "outputs": [],
   "source": [
    "product_pages = extract_links_to_product_pages(department_links)"
   ]
  },
  {
   "cell_type": "code",
   "execution_count": 10,
   "metadata": {
    "scrolled": true
   },
   "outputs": [
    {
     "name": "stdout",
     "output_type": "stream",
     "text": [
      "48\n",
      "['https://www.sainsburys.co.uk/shop/gb/groceries/meat-fish/meatandfish-essentials', 'https://www.sainsburys.co.uk/shop/gb/groceries/meat-fish/meat-and-fish-price-lockdown', 'https://www.sainsburys.co.uk/shop/gb/groceries/meat-fish/bbq', 'https://www.sainsburys.co.uk/shop/gb/groceries/meat-fish/build-a-roast-dinner', 'https://www.sainsburys.co.uk/shop/gb/groceries/meat-fish/ready-to-cook-314359-44', 'https://www.sainsburys.co.uk/shop/gb/groceries/meat-fish/mince', 'https://www.sainsburys.co.uk/shop/gb/groceries/meat-fish/turkey-44', 'https://www.sainsburys.co.uk/shop/gb/groceries/meat-fish/duck--game---venison', 'https://www.sainsburys.co.uk/shop/gb/groceries/meat-fish/meat-free-', 'https://www.sainsburys.co.uk/shop/gb/groceries/meat-fish/sauces--marinades---yorkshire-puddings-310901-44', 'https://www.sainsburys.co.uk/shop/gb/groceries/meat-fish/discover-summer-eating', 'https://www.sainsburys.co.uk/shop/gb/groceries/meat-fish/all-chicken-44', 'https://www.sainsburys.co.uk/shop/gb/groceries/meat-fish/just-cook-chicken', 'https://www.sainsburys.co.uk/shop/gb/groceries/meat-fish/breast---fillet-44', 'https://www.sainsburys.co.uk/shop/gb/groceries/meat-fish/whole-birds', 'https://www.sainsburys.co.uk/shop/gb/groceries/meat-fish/drumsticks---wings-44', 'https://www.sainsburys.co.uk/shop/gb/groceries/meat-fish/breaded---kiev-44', 'https://www.sainsburys.co.uk/shop/gb/groceries/meat-fish/cooked-chicken---turkey-44', 'https://www.sainsburys.co.uk/shop/gb/groceries/meat-fish/bacon', 'https://www.sainsburys.co.uk/shop/gb/groceries/meat-fish/sausages', 'https://www.sainsburys.co.uk/shop/gb/groceries/meat-fish/all-ham--deli-meats---dips', 'https://www.sainsburys.co.uk/shop/gb/groceries/meat-fish/ham', 'https://www.sainsburys.co.uk/shop/gb/groceries/meat-fish/continental-meats---salami', 'https://www.sainsburys.co.uk/shop/gb/groceries/meat-fish/cooked-chicken---turkey-314373-44', 'https://www.sainsburys.co.uk/shop/gb/groceries/meat-fish/snacking---cooked-sausage-44', 'https://www.sainsburys.co.uk/shop/gb/groceries/meat-fish/all-pork', 'https://www.sainsburys.co.uk/shop/gb/groceries/meat-fish/just-cook-pork', 'https://www.sainsburys.co.uk/shop/gb/groceries/meat-fish/pork-joints', 'https://www.sainsburys.co.uk/shop/gb/groceries/meat-fish/frying---grilling', 'https://www.sainsburys.co.uk/shop/gb/groceries/meat-fish/all-fish-seafood', 'https://www.sainsburys.co.uk/shop/gb/groceries/meat-fish/ready-to-cook-fish', 'https://www.sainsburys.co.uk/shop/gb/groceries/meat-fish/salmon--tuna---trout', 'https://www.sainsburys.co.uk/shop/gb/groceries/meat-fish/prawns---seafood-44', 'https://www.sainsburys.co.uk/shop/gb/groceries/meat-fish/cod---white-fish', 'https://www.sainsburys.co.uk/shop/gb/groceries/meat-fish/mackeral--sardines---herring', 'https://www.sainsburys.co.uk/shop/gb/groceries/meat-fish/fishcakes-breaded-fish', 'https://www.sainsburys.co.uk/shop/gb/groceries/meat-fish/smoked-salmon---ready-to-eat', 'https://www.sainsburys.co.uk/shop/gb/groceries/meat-fish/all-beef', 'https://www.sainsburys.co.uk/shop/gb/groceries/meat-fish/beef-just-cook', 'https://www.sainsburys.co.uk/shop/gb/groceries/meat-fish/mince-44', 'https://www.sainsburys.co.uk/shop/gb/groceries/meat-fish/steak', 'https://www.sainsburys.co.uk/shop/gb/groceries/meat-fish/roasting-joints-276047-44', 'https://www.sainsburys.co.uk/shop/gb/groceries/meat-fish/stew---casserole', 'https://www.sainsburys.co.uk/shop/gb/groceries/meat-fish/burgers--meatballs---sausages', 'https://www.sainsburys.co.uk/shop/gb/groceries/meat-fish/all-lamb', 'https://www.sainsburys.co.uk/shop/gb/groceries/meat-fish/just-cook-lamb', 'https://www.sainsburys.co.uk/shop/gb/groceries/meat-fish/roasting-joints-312354-44', 'https://www.sainsburys.co.uk/shop/gb/groceries/meat-fish/frying---grilling-44']\n"
     ]
    }
   ],
   "source": [
    "print(len(product_pages))\n",
    "print(product_pages)"
   ]
  },
  {
   "cell_type": "code",
   "execution_count": 11,
   "metadata": {
    "scrolled": false
   },
   "outputs": [
    {
     "data": {
      "text/plain": [
       "['https://www.sainsburys.co.uk/shop/gb/groceries/meat-fish/meatandfish-essentials',\n",
       " 'https://www.sainsburys.co.uk/shop/gb/groceries/meat-fish/all-ham--deli-meats---dips',\n",
       " 'https://www.sainsburys.co.uk/shop/gb/groceries/meat-fish/steak']"
      ]
     },
     "execution_count": 11,
     "metadata": {},
     "output_type": "execute_result"
    }
   ],
   "source": [
    "product_pages_2 = product_pages[::20]\n",
    "product_pages_2"
   ]
  },
  {
   "cell_type": "markdown",
   "metadata": {},
   "source": [
    "#### 4. Extract each product link after processing next page link)"
   ]
  },
  {
   "cell_type": "code",
   "execution_count": 12,
   "metadata": {},
   "outputs": [],
   "source": [
    "def extract_product_details(product_pages):\n",
    "    products = []\n",
    "    visited = set()\n",
    "    queue = deque()\n",
    "    queue.extend(product_pages)\n",
    "    while queue:\n",
    "        product_page = queue.popleft()\n",
    "        if product_page in visited:\n",
    "            continue\n",
    "        visited.add(product_page)\n",
    "        time.sleep(2)\n",
    "        \n",
    "        soup = get_page(product_page)\n",
    "        if soup:\n",
    "            ul =soup.find('ul', class_ = 'productLister gridView')\n",
    "            if ul:\n",
    "                for li in ul.find_all('li', class_ = 'gridItem'):\n",
    "                    a = li.find('a', href = True)\n",
    "                    if a:\n",
    "                        products.append(a['href'])\n",
    "        next_page = soup.find('li', class_ = 'next')\n",
    "        if next_page:\n",
    "            a = next_page.find('a', href = True)\n",
    "            if a:\n",
    "                # this code is to replace the 'next page' link, usually with messy unknown format\n",
    "                # with this format: product_page# next_page_tail\n",
    "                # by finding the '?' in the next page link, \n",
    "                # and replace it with product_page + #\n",
    "                # write another exception if product page already has a '#' in it\n",
    "                qm = a['href'].find('?')\n",
    "                if '#' in product_page:\n",
    "                    product_page = product_page[:product_page.find('#')]\n",
    "                queue.append(product_page + '#' + a['href'][qm + 1:])\n",
    "    return products\n",
    "                    \n",
    "            "
   ]
  },
  {
   "cell_type": "code",
   "execution_count": 13,
   "metadata": {},
   "outputs": [],
   "source": [
    "products = extract_product_details(product_pages_2)"
   ]
  },
  {
   "cell_type": "code",
   "execution_count": 14,
   "metadata": {},
   "outputs": [
    {
     "name": "stdout",
     "output_type": "stream",
     "text": [
      "265\n",
      "['https://www.sainsburys.co.uk/shop/gb/groceries/product/details/meatandfish-essentials/sainsburys-beef-mince-5-fat-500g', 'https://www.sainsburys.co.uk/shop/gb/groceries/product/details/meatandfish-essentials/sainsburys-responsibly-sourced-scottish-salmon-fillet-x2-240g', 'https://www.sainsburys.co.uk/shop/gb/groceries/product/details/meatandfish-essentials/sainsburys-whole-chicken-breast-fillets-640g', 'https://www.sainsburys.co.uk/shop/gb/groceries/product/details/meatandfish-essentials/sainsburys-british-breaded-ham-120g', 'https://www.sainsburys.co.uk/shop/gb/groceries/product/details/meatandfish-essentials/sainsburys-air-dried-lean-ham-finely-sliced--taste-the-difference-120g', 'https://www.sainsburys.co.uk/shop/gb/groceries/product/details/meatandfish-essentials/sainsburys-british-honey-roast-ham-120g', 'https://www.sainsburys.co.uk/shop/gb/groceries/product/details/meatandfish-essentials/sainsburys-chicken-fillets-1kg', 'https://www.sainsburys.co.uk/shop/gb/groceries/product/details/meatandfish-essentials/sainsburys-breaded-ham-240g', 'https://www.sainsburys.co.uk/shop/gb/groceries/product/details/meatandfish-essentials/sainsburys-butchers-choice-pork-sausages--large-x8-454g', 'https://www.sainsburys.co.uk/shop/PromotionDisplayView?catalogId=10203&productId=139338&langId=44&storeId=10151&promotionId=10410803', 'https://www.sainsburys.co.uk/shop/gb/groceries/product/details/meatandfish-essentials/sainsburys-king-prawns-155g', 'https://www.sainsburys.co.uk/shop/gb/groceries/product/details/meatandfish-essentials/sainsburys-cod-fillets--boneless-250g', 'https://www.sainsburys.co.uk/shop/gb/groceries/product/details/meatandfish-essentials/sainsburys-melting-middle-smoked-haddock-with-cheddar---leek-fishcakes--taste-the-difference-x2-290g', 'https://www.sainsburys.co.uk/shop/gb/groceries/product/details/meatandfish-essentials/sainsburys-beef-mince-5%25-fat-750g', 'https://www.sainsburys.co.uk/shop/gb/groceries/product/details/meatandfish-essentials/sainsburys-british-cooked-ham-125g', 'https://www.sainsburys.co.uk/shop/gb/groceries/product/details/meatandfish-essentials/sainsburys-breaded-garlic-chicken-kievs-x2-260g', 'https://www.sainsburys.co.uk/shop/gb/groceries/product/details/meatandfish-essentials/sainsburys-20%25-fat-mince--basics-500g', 'https://www.sainsburys.co.uk/shop/gb/groceries/product/details/meatandfish-essentials/sainsburys-corned-beef-200g', 'https://www.sainsburys.co.uk/shop/gb/groceries/product/details/meatandfish-essentials/sainsburys-butchers-choice-cumberland-pork-sausages-x8-454g', 'https://www.sainsburys.co.uk/shop/gb/groceries/product/details/meatandfish-essentials/sainsburys-ultimate-smoked-streaky-bacon--taste-the-difference-220g', 'https://www.sainsburys.co.uk/shop/PromotionDisplayView?catalogId=10203&productId=121332&langId=44&storeId=10151&promotionId=10410513', 'https://www.sainsburys.co.uk/shop/gb/groceries/product/details/meatandfish-essentials/sainsburys-chicken-thigh-fillets-640g', 'https://www.sainsburys.co.uk/shop/gb/groceries/product/details/meatandfish-essentials/sainsburys-sea-bass-fillets-180g', 'https://www.sainsburys.co.uk/shop/gb/groceries/product/details/meatandfish-essentials/sainsburys-breaded-chunky-cod--taste-the-difference-x2-350g', 'https://www.sainsburys.co.uk/shop/gb/groceries/product/details/meatandfish-essentials/sainsburys-wiltshire-cured-ham--taste-the-difference-120g', 'https://www.sainsburys.co.uk/shop/gb/groceries/product/details/meatandfish-essentials/sainsburys-thick-unsmoked-bacon-rasher-x6-300g', 'https://www.sainsburys.co.uk/shop/gb/groceries/product/details/meatandfish-essentials/sainsburys-roast-chicken-135g', 'https://www.sainsburys.co.uk/shop/gb/groceries/product/details/meatandfish-essentials/sainsburys-roast-beef-slices-85g', 'https://www.sainsburys.co.uk/shop/gb/groceries/product/details/meatandfish-essentials/sainsburys-british-ultimate-steak-burgers--taste-the-difference-x2-340g', 'https://www.sainsburys.co.uk/shop/gb/groceries/product/details/meatandfish-essentials/sainsburys-beef-mince-12%25-fat-500g', 'https://www.sainsburys.co.uk/shop/gb/groceries/product/details/meatandfish-essentials/sainsburys-mini-chicken-breast-fillets-320g', 'https://www.sainsburys.co.uk/shop/gb/groceries/product/details/meatandfish-essentials/sainsburys-unsmoked-back-bacon-rashers-x8-250g', 'https://www.sainsburys.co.uk/shop/gb/groceries/product/details/meatandfish-essentials/sainsburys-lamb-mince-500g', 'https://www.sainsburys.co.uk/shop/gb/groceries/product/details/meatandfish-essentials/sainsburys-roast-topside-beef-finely-sliced--taste-the-difference-110g', 'https://www.sainsburys.co.uk/shop/gb/groceries/product/details/meatandfish-essentials/sainsburys-cooked-roast-chicken-fillets-x2-240g', 'https://www.sainsburys.co.uk/shop/gb/groceries/product/details/meatandfish-essentials/sainsburys-smoked-streaky-bacon-rashers-300g', 'https://www.sainsburys.co.uk/shop/PromotionDisplayView?catalogId=10203&productId=135278&langId=44&storeId=10151&promotionId=10410514', 'https://www.sainsburys.co.uk/shop/PromotionDisplayView?catalogId=10203&productId=123934&langId=44&storeId=10151&promotionId=10410837', 'https://www.sainsburys.co.uk/shop/gb/groceries/product/details/meatandfish-essentials/sainsburys-whole-chicken-19kg', 'https://www.sainsburys.co.uk/shop/gb/groceries/product/details/meatandfish-essentials/sainsburys-thick-smoked-bacon-rashers-x6-300g', 'https://www.sainsburys.co.uk/shop/gb/groceries/product/details/meatandfish-essentials/sainsburys-british-free-range-whole-chicken--taste-the-difference-900g---22kg', 'https://www.sainsburys.co.uk/shop/gb/groceries/product/details/meatandfish-essentials/sainsburys-brussels-p%C3%A2t%C3%A9-170g', 'https://www.sainsburys.co.uk/shop/gb/groceries/product/details/meatandfish-essentials/sainsburys-smoked-back-bacon-rashers-x8-250g', 'https://www.sainsburys.co.uk/shop/gb/groceries/product/details/meatandfish-essentials/sainsburys-rump-steak-225g-7809681-p-44', 'https://www.sainsburys.co.uk/shop/gb/groceries/product/details/meatandfish-essentials/sainsburys-salmon-fillet--taste-the-difference-240g', 'https://www.sainsburys.co.uk/shop/gb/groceries/product/details/meatandfish-essentials/sainsburys-salmon-fillet--lightly-smoked--taste-the-difference-x2-240g', 'https://www.sainsburys.co.uk/shop/gb/groceries/product/details/meatandfish-essentials/sainsburys-extra-lean-british-pork-mince--be-good-to-yourself-500g', 'https://www.sainsburys.co.uk/shop/gb/groceries/product/details/meatandfish-essentials/sainsburys-turkey-breast-mince-500g', 'https://www.sainsburys.co.uk/shop/gb/groceries/product/details/meatandfish-essentials/sainsburys-chicken-thighs-1kg', 'https://www.sainsburys.co.uk/shop/gb/groceries/product/details/meatandfish-essentials/sainsburys-chicken-breast-fillets-300g', 'https://www.sainsburys.co.uk/shop/gb/groceries/product/details/meatandfish-essentials/sainsburys-butchers-choice-beef-burgers-x4-454g', 'https://www.sainsburys.co.uk/shop/gb/groceries/product/details/meatandfish-essentials/sainsburys-seasonal-fish-pie-mix-320g', 'https://www.sainsburys.co.uk/shop/gb/groceries/product/details/meatandfish-essentials/sainsburys-ultimate-pork-chipolata--taste-the-difference-375g', 'https://www.sainsburys.co.uk/shop/gb/groceries/product/details/meatandfish-essentials/sainsburys-brunswick-ham-100g', 'https://www.sainsburys.co.uk/shop/gb/groceries/product/details/meatandfish-essentials/sainsburys-unsmoked-gammon-joint-750g', 'https://www.sainsburys.co.uk/shop/gb/groceries/product/details/meatandfish-essentials/sainsburys-british-whole-chicken-with-sage---onion-stuffing-145kg', 'https://www.sainsburys.co.uk/shop/gb/groceries/product/details/meatandfish-essentials/sainsburys-pork-bramley-apple-sausages-taste-the-difference-x6-400g', 'https://www.sainsburys.co.uk/shop/gb/groceries/product/details/meatandfish-essentials/sainsburys-wafer-thin-beef-85g', 'https://www.sainsburys.co.uk/shop/gb/groceries/product/details/meatandfish-essentials/sainsburys-yorkshire-puddings-x6-132g', 'https://www.sainsburys.co.uk/shop/gb/groceries/product/details/meatandfish-essentials/sainsburys-british-smoked-boneless-mackerel-taste-the-difference-approx-140g-', '', 'https://www.sainsburys.co.uk/shop/gb/groceries/product/details/all-ham--deli-meats---dips/sainsburys-british-breaded-ham-120g', 'https://www.sainsburys.co.uk/shop/gb/groceries/product/details/all-ham--deli-meats---dips/sainsburys-air-dried-lean-ham-finely-sliced--taste-the-difference-120g', 'https://www.sainsburys.co.uk/shop/gb/groceries/product/details/all-ham--deli-meats---dips/sainsburys-british-honey-roast-ham-120g', 'https://www.sainsburys.co.uk/shop/gb/groceries/product/details/all-ham--deli-meats---dips/sainsburys-breaded-ham-240g', 'https://www.sainsburys.co.uk/shop/gb/groceries/product/details/all-ham--deli-meats---dips/sainsburys-british-cooked-ham-120g', 'https://www.sainsburys.co.uk/shop/gb/groceries/product/details/all-ham--deli-meats---dips/sainsburys-british-cooked-ham-125g', 'https://www.sainsburys.co.uk/shop/PromotionDisplayView?catalogId=10203&productId=139338&langId=44&storeId=10151&promotionId=10410803', 'https://www.sainsburys.co.uk/shop/gb/groceries/product/details/all-ham--deli-meats---dips/sainsburys-corned-beef-200g', 'https://www.sainsburys.co.uk/shop/PromotionDisplayView?catalogId=10203&productId=147632&langId=44&storeId=10151&promotionId=10411070', 'https://www.sainsburys.co.uk/shop/gb/groceries/product/details/all-ham--deli-meats---dips/sainsburys-wiltshire-cured-ham--taste-the-difference-120g', 'https://www.sainsburys.co.uk/shop/gb/groceries/product/details/all-ham--deli-meats---dips/sainsburys-butter-roast-chicken--taste-the-difference-120g', 'https://www.sainsburys.co.uk/shop/gb/groceries/product/details/all-ham--deli-meats---dips/sainsburys-roast-chicken-135g', 'https://www.sainsburys.co.uk/shop/gb/groceries/product/details/all-ham--deli-meats---dips/sainsburys-roast-beef-slices-85g', 'https://www.sainsburys.co.uk/shop/PromotionDisplayView?catalogId=10203&productId=135278&langId=44&storeId=10151&promotionId=10410514', 'https://www.sainsburys.co.uk/shop/gb/groceries/product/details/all-ham--deli-meats---dips/sainsburys-british-honey-roast-ham-125g', 'https://www.sainsburys.co.uk/shop/PromotionDisplayView?catalogId=10203&productId=136636&langId=44&storeId=10151&promotionId=10410828', 'https://www.sainsburys.co.uk/shop/gb/groceries/product/details/all-ham--deli-meats---dips/sainsburys-german-brunswick-ham-wafer-thin-slices-x10-125g', 'https://www.sainsburys.co.uk/shop/gb/groceries/product/details/all-ham--deli-meats---dips/sainsburys-roast-topside-beef-finely-sliced--taste-the-difference-110g', 'https://www.sainsburys.co.uk/shop/gb/groceries/product/details/all-ham--deli-meats---dips/sainsburys-cooked-roast-chicken-fillets-x2-240g', 'https://www.sainsburys.co.uk/shop/gb/groceries/product/details/all-ham--deli-meats---dips/sainsburys-cooked-chicken-slices-125g', 'https://www.sainsburys.co.uk/shop/gb/groceries/product/details/all-ham--deli-meats---dips/sainsburys-british-honey-cured-ham-wafer-thin-sliced-450g', 'https://www.sainsburys.co.uk/shop/gb/groceries/product/details/all-ham--deli-meats---dips/sainsburys-cocktail-sausages-x40', 'https://www.sainsburys.co.uk/shop/gb/groceries/product/details/all-ham--deli-meats---dips/sainsburys-german-salami-150g', 'https://www.sainsburys.co.uk/shop/gb/groceries/product/details/all-ham--deli-meats---dips/sainsburys-chargrilled-chicken-slices-160g', 'https://www.sainsburys.co.uk/shop/gb/groceries/product/details/all-ham--deli-meats---dips/sainsburys-brunswick-ham-100g', 'https://www.sainsburys.co.uk/shop/gb/groceries/product/details/all-ham--deli-meats---dips/sainsburys-cooked-ham-240g', 'https://www.sainsburys.co.uk/shop/gb/groceries/product/details/all-ham--deli-meats---dips/bernard-matthews-chicken-chunks-100g', 'https://www.sainsburys.co.uk/shop/gb/groceries/product/details/all-ham--deli-meats---dips/sainsburys-honey-roast-wiltshire-cured-ham--taste-the-difference-120g', 'https://www.sainsburys.co.uk/shop/gb/groceries/product/details/all-ham--deli-meats---dips/sainsburys-wafer-thin-beef-85g', 'https://www.sainsburys.co.uk/shop/gb/groceries/product/details/all-ham--deli-meats---dips/sainsburys-pastrami--taste-the-difference-120g', 'https://www.sainsburys.co.uk/shop/gb/groceries/product/details/all-ham--deli-meats---dips/sainsburys-cocktail-sausage-snack-bag-x10-70g', 'https://www.sainsburys.co.uk/shop/gb/groceries/product/details/all-ham--deli-meats---dips/sainsburys-british-thick-cut-cooked-ham--be-good-to-yourself-80g', 'https://www.sainsburys.co.uk/shop/gb/groceries/product/details/all-ham--deli-meats---dips/sainsburys-italian-prosciutto-crudo-slices-70g', 'https://www.sainsburys.co.uk/shop/PromotionDisplayView?catalogId=10203&productId=138148&langId=44&storeId=10151&promotionId=10410827', 'https://www.sainsburys.co.uk/shop/gb/groceries/product/details/all-ham--deli-meats---dips/sainsburys-roast-turkey-breast-slices-120g', 'https://www.sainsburys.co.uk/shop/gb/groceries/product/details/all-ham--deli-meats---dips/sainsburys-cooked-boneless-chicken-breasts-x4-480g', 'https://www.sainsburys.co.uk/shop/gb/groceries/product/details/all-ham--deli-meats---dips/sainsburys-british-smoked-cooked-crispy-bacon-50g', 'https://www.sainsburys.co.uk/shop/gb/groceries/product/details/all-ham--deli-meats---dips/sainsburys-diced-chorizo-150g', 'https://www.sainsburys.co.uk/shop/gb/groceries/product/details/all-ham--deli-meats---dips/sainsburys-british-wafer-thin-cooked-ham-450g', 'https://www.sainsburys.co.uk/shop/gb/groceries/product/details/all-ham--deli-meats---dips/sainsburys-british-smoked-ham-120g', 'https://www.sainsburys.co.uk/shop/gb/groceries/product/details/all-ham--deli-meats---dips/sainsburys-peppered-roast-beef-slices-85g', 'https://www.sainsburys.co.uk/shop/gb/groceries/product/details/all-ham--deli-meats---dips/sainsburys-wafer-thin-chicken-slices-400g', 'https://www.sainsburys.co.uk/shop/PromotionDisplayView?catalogId=10203&productId=141654&langId=44&storeId=10151&promotionId=10410851', 'https://www.sainsburys.co.uk/shop/gb/groceries/product/details/all-ham--deli-meats---dips/sainsburys-milano-salami-43g', 'https://www.sainsburys.co.uk/shop/gb/groceries/product/details/all-ham--deli-meats---dips/sainsburys-serrano-ham-70g', 'https://www.sainsburys.co.uk/shop/gb/groceries/product/details/all-ham--deli-meats---dips/sainsburys-oak-smoked-air-dried-ham-finely-sliced--taste-the-difference-120g', 'https://www.sainsburys.co.uk/shop/gb/groceries/product/details/all-ham--deli-meats---dips/sainsburys-breaded-air-dried-ham-finely-sliced--taste-the-difference-120g', 'https://www.sainsburys.co.uk/shop/gb/groceries/product/details/all-ham--deli-meats---dips/sainsburys-simply-italian-pepperoni-100g', 'https://www.sainsburys.co.uk/shop/gb/groceries/product/details/all-ham--deli-meats---dips/sainsburys-roast-sliced-chicken-breast-160g', 'https://www.sainsburys.co.uk/shop/gb/groceries/product/details/all-ham--deli-meats---dips/sainsburys-spanish-chorizo-70g', 'https://www.sainsburys.co.uk/shop/gb/groceries/product/details/all-ham--deli-meats---dips/sainsburys-parma-ham-aged-16-months-80g', 'https://www.sainsburys.co.uk/shop/gb/groceries/product/details/all-ham--deli-meats---dips/sainsburys-honey-roast-ham-240g', 'https://www.sainsburys.co.uk/shop/gb/groceries/product/details/all-ham--deli-meats---dips/sainsburys-crudo-antipasti-selection-120g', 'https://www.sainsburys.co.uk/shop/gb/groceries/product/details/all-ham--deli-meats---dips/bernard-matthew-roast-turkey-chunks-100g', 'https://www.sainsburys.co.uk/shop/gb/groceries/product/details/all-ham--deli-meats---dips/sainsburys-smoked-cubetti-di-pancetta-160g', 'https://www.sainsburys.co.uk/shop/gb/groceries/product/details/all-ham--deli-meats---dips/sainsburys-cooked-beef-slices-125g', 'https://www.sainsburys.co.uk/shop/gb/groceries/product/details/all-ham--deli-meats---dips/sainsburys-wafer-thin-cooked-ham-70g-7808811-p-44', 'https://www.sainsburys.co.uk/shop/PromotionDisplayView?catalogId=10203&productId=816974&langId=44&storeId=10151&promotionId=10410823', 'https://www.sainsburys.co.uk/shop/gb/groceries/product/details/all-ham--deli-meats---dips/sainsburys-british-breaded-ham--be-good-to-yourself-100g', 'https://www.sainsburys.co.uk/shop/gb/groceries/product/details/steak/sainsburys-21-day-matured-beef-fillet-steak-170g', 'https://www.sainsburys.co.uk/shop/gb/groceries/product/details/steak/sainsburys-21-day-matured-beef-medallion-steak-340g', 'https://www.sainsburys.co.uk/shop/gb/groceries/product/details/steak/sainsburys-rump-steak-225g-7809681-p-44', 'https://www.sainsburys.co.uk/shop/gb/groceries/product/details/steak/sainsburys-sirloin-steak-225g', 'https://www.sainsburys.co.uk/shop/gb/groceries/product/details/steak/sainsburys-british-extra-lean-beef-escalopes-300g', 'https://www.sainsburys.co.uk/shop/gb/groceries/product/details/steak/sainsburys-sirloin-steak--taste-the-difference-225g-7809846-p-44', 'https://www.sainsburys.co.uk/shop/PromotionDisplayView?catalogId=10176&productId=1200022&langId=44&storeId=10151&promotionId=10408775', 'https://www.sainsburys.co.uk/shop/gb/groceries/product/details/steak/sainsburys-30-day-matured-fillet-steak-taste-the-difference-x2-approx-414g-', 'https://www.sainsburys.co.uk/shop/gb/groceries/product/details/steak/sainsburys-beef-sizzler-steaks-350g-7876533-p-44', 'https://www.sainsburys.co.uk/shop/gb/groceries/product/details/steak/sainsburys-21-day-matured-thin-cut-sirloin-steak-155g', 'https://www.sainsburys.co.uk/shop/gb/groceries/product/details/steak/jsjc-beef-stks-grlc-butter-330g', 'https://www.sainsburys.co.uk/shop/PromotionDisplayView?catalogId=10176&productId=1344882&langId=44&storeId=10151&promotionId=10408716', 'https://www.sainsburys.co.uk/shop/gb/groceries/product/details/steak/sainsburys-30-day-matured-fillet-steak-taste-the-difference-170g', 'https://www.sainsburys.co.uk/shop/gb/groceries/product/details/steak/sainsburys-21-day-matured-ribeye-steak-225g', 'https://www.sainsburys.co.uk/shop/gb/groceries/product/details/steak/sainsburys-sirloin-steak--organic-225g', 'https://www.sainsburys.co.uk/shop/gb/groceries/product/details/steak/sainsburys-rump-steak--so-organic-225g-7809674-p-44', 'https://www.sainsburys.co.uk/shop/gb/groceries/product/details/steak/sainsburys-30-day-matured-thin-cut-sirloin-steak-taste-the-difference-155g', 'https://www.sainsburys.co.uk/shop/gb/groceries/product/details/steak/sainsburys-21-day-matured-beef-fillet-steak-x2-approx-300g-', 'https://www.sainsburys.co.uk/shop/gb/groceries/product/details/steak/sainsburys-30-day-matured-fillet-steak-so-organic-170g', 'https://www.sainsburys.co.uk/shop/gb/groceries/product/details/steak/sainsburys-21-days-matured-big-daddy-rump-steak-450g', 'https://www.sainsburys.co.uk/shop/gb/groceries/product/details/steak/sainsburys-picanha-steak--taste-the-difference-225g', 'https://www.sainsburys.co.uk/shop/gb/groceries/product/details/steak/sainsburys-21-day-matured-british-beef-rump-steak-with-garlic-herb-butter-245g', 'https://www.sainsburys.co.uk/shop/gb/groceries/product/details/steak/sainsburys-taste-the-difference-30-day-ribeye-steak-285g', 'https://www.sainsburys.co.uk/shop/gb/groceries/product/details/steak/sainsburys-bone-in-ribeye-steak--taste-the-difference', 'https://www.sainsburys.co.uk/shop/gb/groceries/product/details/steak/sainsburys-bone-in-sirloin-steak--taste-the-difference', 'https://www.sainsburys.co.uk/shop/gb/groceries/product/details/meatandfish-essentials/sainsburys-beef-mince-5-fat-500g', 'https://www.sainsburys.co.uk/shop/gb/groceries/product/details/meatandfish-essentials/sainsburys-responsibly-sourced-scottish-salmon-fillet-x2-240g', 'https://www.sainsburys.co.uk/shop/gb/groceries/product/details/meatandfish-essentials/sainsburys-whole-chicken-breast-fillets-640g', 'https://www.sainsburys.co.uk/shop/gb/groceries/product/details/meatandfish-essentials/sainsburys-british-breaded-ham-120g', 'https://www.sainsburys.co.uk/shop/gb/groceries/product/details/meatandfish-essentials/sainsburys-air-dried-lean-ham-finely-sliced--taste-the-difference-120g', 'https://www.sainsburys.co.uk/shop/gb/groceries/product/details/meatandfish-essentials/sainsburys-british-honey-roast-ham-120g', 'https://www.sainsburys.co.uk/shop/gb/groceries/product/details/meatandfish-essentials/sainsburys-chicken-fillets-1kg', 'https://www.sainsburys.co.uk/shop/gb/groceries/product/details/meatandfish-essentials/sainsburys-breaded-ham-240g', 'https://www.sainsburys.co.uk/shop/gb/groceries/product/details/meatandfish-essentials/sainsburys-butchers-choice-pork-sausages--large-x8-454g', 'https://www.sainsburys.co.uk/shop/PromotionDisplayView?catalogId=10241&productId=139338&langId=44&storeId=10151&promotionId=10410803', 'https://www.sainsburys.co.uk/shop/gb/groceries/product/details/meatandfish-essentials/sainsburys-king-prawns-155g', 'https://www.sainsburys.co.uk/shop/gb/groceries/product/details/meatandfish-essentials/sainsburys-cod-fillets--boneless-250g', 'https://www.sainsburys.co.uk/shop/gb/groceries/product/details/meatandfish-essentials/sainsburys-melting-middle-smoked-haddock-with-cheddar---leek-fishcakes--taste-the-difference-x2-290g', 'https://www.sainsburys.co.uk/shop/gb/groceries/product/details/meatandfish-essentials/sainsburys-beef-mince-5%25-fat-750g', 'https://www.sainsburys.co.uk/shop/gb/groceries/product/details/meatandfish-essentials/sainsburys-british-cooked-ham-125g', 'https://www.sainsburys.co.uk/shop/gb/groceries/product/details/meatandfish-essentials/sainsburys-breaded-garlic-chicken-kievs-x2-260g', 'https://www.sainsburys.co.uk/shop/gb/groceries/product/details/meatandfish-essentials/sainsburys-20%25-fat-mince--basics-500g', 'https://www.sainsburys.co.uk/shop/gb/groceries/product/details/meatandfish-essentials/sainsburys-corned-beef-200g', 'https://www.sainsburys.co.uk/shop/gb/groceries/product/details/meatandfish-essentials/sainsburys-butchers-choice-cumberland-pork-sausages-x8-454g', 'https://www.sainsburys.co.uk/shop/gb/groceries/product/details/meatandfish-essentials/sainsburys-ultimate-smoked-streaky-bacon--taste-the-difference-220g', 'https://www.sainsburys.co.uk/shop/PromotionDisplayView?catalogId=10241&productId=121332&langId=44&storeId=10151&promotionId=10410513', 'https://www.sainsburys.co.uk/shop/gb/groceries/product/details/meatandfish-essentials/sainsburys-chicken-thigh-fillets-640g', 'https://www.sainsburys.co.uk/shop/gb/groceries/product/details/meatandfish-essentials/sainsburys-sea-bass-fillets-180g', 'https://www.sainsburys.co.uk/shop/gb/groceries/product/details/meatandfish-essentials/sainsburys-breaded-chunky-cod--taste-the-difference-x2-350g', 'https://www.sainsburys.co.uk/shop/gb/groceries/product/details/meatandfish-essentials/sainsburys-wiltshire-cured-ham--taste-the-difference-120g', 'https://www.sainsburys.co.uk/shop/gb/groceries/product/details/meatandfish-essentials/sainsburys-thick-unsmoked-bacon-rasher-x6-300g', 'https://www.sainsburys.co.uk/shop/gb/groceries/product/details/meatandfish-essentials/sainsburys-roast-chicken-135g', 'https://www.sainsburys.co.uk/shop/gb/groceries/product/details/meatandfish-essentials/sainsburys-roast-beef-slices-85g', 'https://www.sainsburys.co.uk/shop/gb/groceries/product/details/meatandfish-essentials/sainsburys-british-ultimate-steak-burgers--taste-the-difference-x2-340g', 'https://www.sainsburys.co.uk/shop/gb/groceries/product/details/meatandfish-essentials/sainsburys-beef-mince-12%25-fat-500g', 'https://www.sainsburys.co.uk/shop/gb/groceries/product/details/meatandfish-essentials/sainsburys-mini-chicken-breast-fillets-320g', 'https://www.sainsburys.co.uk/shop/gb/groceries/product/details/meatandfish-essentials/sainsburys-unsmoked-back-bacon-rashers-x8-250g', 'https://www.sainsburys.co.uk/shop/gb/groceries/product/details/meatandfish-essentials/sainsburys-lamb-mince-500g', 'https://www.sainsburys.co.uk/shop/gb/groceries/product/details/meatandfish-essentials/sainsburys-roast-topside-beef-finely-sliced--taste-the-difference-110g', 'https://www.sainsburys.co.uk/shop/gb/groceries/product/details/meatandfish-essentials/sainsburys-cooked-roast-chicken-fillets-x2-240g', 'https://www.sainsburys.co.uk/shop/gb/groceries/product/details/meatandfish-essentials/sainsburys-smoked-streaky-bacon-rashers-300g', 'https://www.sainsburys.co.uk/shop/PromotionDisplayView?catalogId=10241&productId=135278&langId=44&storeId=10151&promotionId=10410514', 'https://www.sainsburys.co.uk/shop/PromotionDisplayView?catalogId=10241&productId=123934&langId=44&storeId=10151&promotionId=10410837', 'https://www.sainsburys.co.uk/shop/gb/groceries/product/details/meatandfish-essentials/sainsburys-whole-chicken-19kg', 'https://www.sainsburys.co.uk/shop/gb/groceries/product/details/meatandfish-essentials/sainsburys-thick-smoked-bacon-rashers-x6-300g', 'https://www.sainsburys.co.uk/shop/gb/groceries/product/details/meatandfish-essentials/sainsburys-british-free-range-whole-chicken--taste-the-difference-900g---22kg', 'https://www.sainsburys.co.uk/shop/gb/groceries/product/details/meatandfish-essentials/sainsburys-brussels-p%C3%A2t%C3%A9-170g', 'https://www.sainsburys.co.uk/shop/gb/groceries/product/details/meatandfish-essentials/sainsburys-smoked-back-bacon-rashers-x8-250g', 'https://www.sainsburys.co.uk/shop/gb/groceries/product/details/meatandfish-essentials/sainsburys-rump-steak-225g-7809681-p-44', 'https://www.sainsburys.co.uk/shop/gb/groceries/product/details/meatandfish-essentials/sainsburys-salmon-fillet--taste-the-difference-240g', 'https://www.sainsburys.co.uk/shop/gb/groceries/product/details/meatandfish-essentials/sainsburys-salmon-fillet--lightly-smoked--taste-the-difference-x2-240g', 'https://www.sainsburys.co.uk/shop/gb/groceries/product/details/meatandfish-essentials/sainsburys-extra-lean-british-pork-mince--be-good-to-yourself-500g', 'https://www.sainsburys.co.uk/shop/gb/groceries/product/details/meatandfish-essentials/sainsburys-turkey-breast-mince-500g', 'https://www.sainsburys.co.uk/shop/gb/groceries/product/details/meatandfish-essentials/sainsburys-chicken-thighs-1kg', 'https://www.sainsburys.co.uk/shop/gb/groceries/product/details/meatandfish-essentials/sainsburys-chicken-breast-fillets-300g', 'https://www.sainsburys.co.uk/shop/gb/groceries/product/details/meatandfish-essentials/sainsburys-butchers-choice-beef-burgers-x4-454g', 'https://www.sainsburys.co.uk/shop/gb/groceries/product/details/meatandfish-essentials/sainsburys-seasonal-fish-pie-mix-320g', 'https://www.sainsburys.co.uk/shop/gb/groceries/product/details/meatandfish-essentials/sainsburys-ultimate-pork-chipolata--taste-the-difference-375g', 'https://www.sainsburys.co.uk/shop/gb/groceries/product/details/meatandfish-essentials/sainsburys-brunswick-ham-100g', 'https://www.sainsburys.co.uk/shop/gb/groceries/product/details/meatandfish-essentials/sainsburys-unsmoked-gammon-joint-750g', 'https://www.sainsburys.co.uk/shop/gb/groceries/product/details/meatandfish-essentials/sainsburys-british-whole-chicken-with-sage---onion-stuffing-145kg', 'https://www.sainsburys.co.uk/shop/gb/groceries/product/details/meatandfish-essentials/sainsburys-pork-bramley-apple-sausages-taste-the-difference-x6-400g', 'https://www.sainsburys.co.uk/shop/gb/groceries/product/details/meatandfish-essentials/sainsburys-wafer-thin-beef-85g', 'https://www.sainsburys.co.uk/shop/gb/groceries/product/details/meatandfish-essentials/sainsburys-yorkshire-puddings-x6-132g', 'https://www.sainsburys.co.uk/shop/gb/groceries/product/details/meatandfish-essentials/sainsburys-british-smoked-boneless-mackerel-taste-the-difference-approx-140g-', '', 'https://www.sainsburys.co.uk/shop/gb/groceries/product/details/all-ham--deli-meats---dips/sainsburys-british-breaded-ham-120g', 'https://www.sainsburys.co.uk/shop/gb/groceries/product/details/all-ham--deli-meats---dips/sainsburys-air-dried-lean-ham-finely-sliced--taste-the-difference-120g', 'https://www.sainsburys.co.uk/shop/gb/groceries/product/details/all-ham--deli-meats---dips/sainsburys-british-honey-roast-ham-120g', 'https://www.sainsburys.co.uk/shop/gb/groceries/product/details/all-ham--deli-meats---dips/sainsburys-breaded-ham-240g', 'https://www.sainsburys.co.uk/shop/gb/groceries/product/details/all-ham--deli-meats---dips/sainsburys-british-cooked-ham-120g', 'https://www.sainsburys.co.uk/shop/gb/groceries/product/details/all-ham--deli-meats---dips/sainsburys-british-cooked-ham-125g', 'https://www.sainsburys.co.uk/shop/PromotionDisplayView?catalogId=10176&productId=139338&langId=44&storeId=10151&promotionId=10410803', 'https://www.sainsburys.co.uk/shop/gb/groceries/product/details/all-ham--deli-meats---dips/sainsburys-corned-beef-200g', 'https://www.sainsburys.co.uk/shop/PromotionDisplayView?catalogId=10176&productId=147632&langId=44&storeId=10151&promotionId=10411070', 'https://www.sainsburys.co.uk/shop/gb/groceries/product/details/all-ham--deli-meats---dips/sainsburys-wiltshire-cured-ham--taste-the-difference-120g', 'https://www.sainsburys.co.uk/shop/gb/groceries/product/details/all-ham--deli-meats---dips/sainsburys-butter-roast-chicken--taste-the-difference-120g', 'https://www.sainsburys.co.uk/shop/gb/groceries/product/details/all-ham--deli-meats---dips/sainsburys-roast-chicken-135g', 'https://www.sainsburys.co.uk/shop/gb/groceries/product/details/all-ham--deli-meats---dips/sainsburys-roast-beef-slices-85g', 'https://www.sainsburys.co.uk/shop/PromotionDisplayView?catalogId=10176&productId=135278&langId=44&storeId=10151&promotionId=10410514', 'https://www.sainsburys.co.uk/shop/gb/groceries/product/details/all-ham--deli-meats---dips/sainsburys-british-honey-roast-ham-125g', 'https://www.sainsburys.co.uk/shop/PromotionDisplayView?catalogId=10176&productId=136636&langId=44&storeId=10151&promotionId=10410828', 'https://www.sainsburys.co.uk/shop/gb/groceries/product/details/all-ham--deli-meats---dips/sainsburys-german-brunswick-ham-wafer-thin-slices-x10-125g', 'https://www.sainsburys.co.uk/shop/gb/groceries/product/details/all-ham--deli-meats---dips/sainsburys-roast-topside-beef-finely-sliced--taste-the-difference-110g', 'https://www.sainsburys.co.uk/shop/gb/groceries/product/details/all-ham--deli-meats---dips/sainsburys-cooked-roast-chicken-fillets-x2-240g', 'https://www.sainsburys.co.uk/shop/gb/groceries/product/details/all-ham--deli-meats---dips/sainsburys-cooked-chicken-slices-125g', 'https://www.sainsburys.co.uk/shop/gb/groceries/product/details/all-ham--deli-meats---dips/sainsburys-british-honey-cured-ham-wafer-thin-sliced-450g', 'https://www.sainsburys.co.uk/shop/gb/groceries/product/details/all-ham--deli-meats---dips/sainsburys-cocktail-sausages-x40', 'https://www.sainsburys.co.uk/shop/gb/groceries/product/details/all-ham--deli-meats---dips/sainsburys-german-salami-150g', 'https://www.sainsburys.co.uk/shop/gb/groceries/product/details/all-ham--deli-meats---dips/sainsburys-chargrilled-chicken-slices-160g', 'https://www.sainsburys.co.uk/shop/gb/groceries/product/details/all-ham--deli-meats---dips/sainsburys-brunswick-ham-100g', 'https://www.sainsburys.co.uk/shop/gb/groceries/product/details/all-ham--deli-meats---dips/sainsburys-cooked-ham-240g', 'https://www.sainsburys.co.uk/shop/gb/groceries/product/details/all-ham--deli-meats---dips/bernard-matthews-chicken-chunks-100g', 'https://www.sainsburys.co.uk/shop/gb/groceries/product/details/all-ham--deli-meats---dips/sainsburys-honey-roast-wiltshire-cured-ham--taste-the-difference-120g', 'https://www.sainsburys.co.uk/shop/gb/groceries/product/details/all-ham--deli-meats---dips/sainsburys-wafer-thin-beef-85g', 'https://www.sainsburys.co.uk/shop/gb/groceries/product/details/all-ham--deli-meats---dips/sainsburys-pastrami--taste-the-difference-120g', 'https://www.sainsburys.co.uk/shop/gb/groceries/product/details/all-ham--deli-meats---dips/sainsburys-cocktail-sausage-snack-bag-x10-70g', 'https://www.sainsburys.co.uk/shop/gb/groceries/product/details/all-ham--deli-meats---dips/sainsburys-british-thick-cut-cooked-ham--be-good-to-yourself-80g', 'https://www.sainsburys.co.uk/shop/gb/groceries/product/details/all-ham--deli-meats---dips/sainsburys-italian-prosciutto-crudo-slices-70g', 'https://www.sainsburys.co.uk/shop/PromotionDisplayView?catalogId=10176&productId=138148&langId=44&storeId=10151&promotionId=10410827', 'https://www.sainsburys.co.uk/shop/gb/groceries/product/details/all-ham--deli-meats---dips/sainsburys-roast-turkey-breast-slices-120g', 'https://www.sainsburys.co.uk/shop/gb/groceries/product/details/all-ham--deli-meats---dips/sainsburys-cooked-boneless-chicken-breasts-x4-480g', 'https://www.sainsburys.co.uk/shop/gb/groceries/product/details/all-ham--deli-meats---dips/sainsburys-british-smoked-cooked-crispy-bacon-50g', 'https://www.sainsburys.co.uk/shop/gb/groceries/product/details/all-ham--deli-meats---dips/sainsburys-diced-chorizo-150g', 'https://www.sainsburys.co.uk/shop/gb/groceries/product/details/all-ham--deli-meats---dips/sainsburys-british-wafer-thin-cooked-ham-450g', 'https://www.sainsburys.co.uk/shop/gb/groceries/product/details/all-ham--deli-meats---dips/sainsburys-british-smoked-ham-120g', 'https://www.sainsburys.co.uk/shop/gb/groceries/product/details/all-ham--deli-meats---dips/sainsburys-peppered-roast-beef-slices-85g', 'https://www.sainsburys.co.uk/shop/gb/groceries/product/details/all-ham--deli-meats---dips/sainsburys-wafer-thin-chicken-slices-400g', 'https://www.sainsburys.co.uk/shop/PromotionDisplayView?catalogId=10176&productId=141654&langId=44&storeId=10151&promotionId=10410851', 'https://www.sainsburys.co.uk/shop/gb/groceries/product/details/all-ham--deli-meats---dips/sainsburys-milano-salami-43g', 'https://www.sainsburys.co.uk/shop/gb/groceries/product/details/all-ham--deli-meats---dips/sainsburys-serrano-ham-70g', 'https://www.sainsburys.co.uk/shop/gb/groceries/product/details/all-ham--deli-meats---dips/sainsburys-oak-smoked-air-dried-ham-finely-sliced--taste-the-difference-120g', 'https://www.sainsburys.co.uk/shop/gb/groceries/product/details/all-ham--deli-meats---dips/sainsburys-breaded-air-dried-ham-finely-sliced--taste-the-difference-120g', 'https://www.sainsburys.co.uk/shop/gb/groceries/product/details/all-ham--deli-meats---dips/sainsburys-simply-italian-pepperoni-100g', 'https://www.sainsburys.co.uk/shop/gb/groceries/product/details/all-ham--deli-meats---dips/sainsburys-roast-sliced-chicken-breast-160g', 'https://www.sainsburys.co.uk/shop/gb/groceries/product/details/all-ham--deli-meats---dips/sainsburys-spanish-chorizo-70g', 'https://www.sainsburys.co.uk/shop/gb/groceries/product/details/all-ham--deli-meats---dips/sainsburys-parma-ham-aged-16-months-80g', 'https://www.sainsburys.co.uk/shop/gb/groceries/product/details/all-ham--deli-meats---dips/sainsburys-honey-roast-ham-240g', 'https://www.sainsburys.co.uk/shop/gb/groceries/product/details/all-ham--deli-meats---dips/sainsburys-crudo-antipasti-selection-120g', 'https://www.sainsburys.co.uk/shop/gb/groceries/product/details/all-ham--deli-meats---dips/bernard-matthew-roast-turkey-chunks-100g', 'https://www.sainsburys.co.uk/shop/gb/groceries/product/details/all-ham--deli-meats---dips/sainsburys-smoked-cubetti-di-pancetta-160g', 'https://www.sainsburys.co.uk/shop/gb/groceries/product/details/all-ham--deli-meats---dips/sainsburys-cooked-beef-slices-125g', 'https://www.sainsburys.co.uk/shop/gb/groceries/product/details/all-ham--deli-meats---dips/sainsburys-wafer-thin-cooked-ham-70g-7808811-p-44', 'https://www.sainsburys.co.uk/shop/PromotionDisplayView?catalogId=10176&productId=816974&langId=44&storeId=10151&promotionId=10410823', 'https://www.sainsburys.co.uk/shop/gb/groceries/product/details/all-ham--deli-meats---dips/sainsburys-british-breaded-ham--be-good-to-yourself-100g']\n"
     ]
    }
   ],
   "source": [
    "print(len(products))\n",
    "print(products)"
   ]
  },
  {
   "cell_type": "markdown",
   "metadata": {},
   "source": [
    "#### 5. Extracting product infomations"
   ]
  },
  {
   "cell_type": "code",
   "execution_count": 16,
   "metadata": {},
   "outputs": [
    {
     "data": {
      "text/plain": [
       "14"
      ]
     },
     "execution_count": 16,
     "metadata": {},
     "output_type": "execute_result"
    }
   ],
   "source": [
    "products_short = products[::20]\n",
    "len(products_short)"
   ]
  },
  {
   "cell_type": "code",
   "execution_count": 17,
   "metadata": {},
   "outputs": [
    {
     "data": {
      "text/plain": [
       "['https://www.sainsburys.co.uk/shop/gb/groceries/product/details/meatandfish-essentials/sainsburys-beef-mince-5-fat-500g',\n",
       " 'https://www.sainsburys.co.uk/shop/PromotionDisplayView?catalogId=10203&productId=121332&langId=44&storeId=10151&promotionId=10410513',\n",
       " 'https://www.sainsburys.co.uk/shop/gb/groceries/product/details/meatandfish-essentials/sainsburys-british-free-range-whole-chicken--taste-the-difference-900g---22kg',\n",
       " '',\n",
       " 'https://www.sainsburys.co.uk/shop/gb/groceries/product/details/all-ham--deli-meats---dips/sainsburys-cooked-chicken-slices-125g',\n",
       " 'https://www.sainsburys.co.uk/shop/gb/groceries/product/details/all-ham--deli-meats---dips/sainsburys-british-smoked-ham-120g',\n",
       " 'https://www.sainsburys.co.uk/shop/gb/groceries/product/details/steak/sainsburys-21-day-matured-beef-fillet-steak-170g',\n",
       " 'https://www.sainsburys.co.uk/shop/gb/groceries/product/details/steak/sainsburys-picanha-steak--taste-the-difference-225g',\n",
       " 'https://www.sainsburys.co.uk/shop/gb/groceries/product/details/meatandfish-essentials/sainsburys-breaded-garlic-chicken-kievs-x2-260g',\n",
       " 'https://www.sainsburys.co.uk/shop/gb/groceries/product/details/meatandfish-essentials/sainsburys-smoked-streaky-bacon-rashers-300g',\n",
       " 'https://www.sainsburys.co.uk/shop/gb/groceries/product/details/meatandfish-essentials/sainsburys-british-whole-chicken-with-sage---onion-stuffing-145kg',\n",
       " 'https://www.sainsburys.co.uk/shop/gb/groceries/product/details/all-ham--deli-meats---dips/sainsburys-british-honey-roast-ham-125g',\n",
       " 'https://www.sainsburys.co.uk/shop/gb/groceries/product/details/all-ham--deli-meats---dips/sainsburys-roast-turkey-breast-slices-120g',\n",
       " 'https://www.sainsburys.co.uk/shop/gb/groceries/product/details/all-ham--deli-meats---dips/sainsburys-smoked-cubetti-di-pancetta-160g']"
      ]
     },
     "execution_count": 17,
     "metadata": {},
     "output_type": "execute_result"
    }
   ],
   "source": [
    "products_short"
   ]
  },
  {
   "cell_type": "code",
   "execution_count": 18,
   "metadata": {},
   "outputs": [],
   "source": [
    "# Info to extract:\n",
    "#     name\n",
    "#     url\n",
    "#     item code\n",
    "#     nutrition per 100g: energy kcals, energy kjoules, fat, saturates, carbs, total sugars, starch, fibers, protes, salt\n",
    "#     country of origin\n",
    "#     price per unit\n",
    "#     unit\n",
    "#     number of reviews\n",
    "#     avg ratings"
   ]
  },
  {
   "cell_type": "code",
   "execution_count": 19,
   "metadata": {},
   "outputs": [],
   "source": [
    "a_link = 'https://www.sainsburys.co.uk/shop/gb/groceries/product/details/meatandfish-essentials/sainsburys-beef-mince-5-fat-500g'"
   ]
  },
  {
   "cell_type": "code",
   "execution_count": 20,
   "metadata": {},
   "outputs": [],
   "source": [
    "product_info = {}\n",
    "soup = get_page(a_link)"
   ]
  },
  {
   "cell_type": "code",
   "execution_count": 21,
   "metadata": {},
   "outputs": [
    {
     "name": "stdout",
     "output_type": "stream",
     "text": [
      "{'url': 'https://www.sainsburys.co.uk/shop/gb/groceries/product/details/meatandfish-essentials/sainsburys-beef-mince-5-fat-500g'}\n"
     ]
    }
   ],
   "source": [
    "#product url:\n",
    "product_info['url'] = a_link\n",
    "\n"
   ]
  },
  {
   "cell_type": "code",
   "execution_count": 25,
   "metadata": {},
   "outputs": [
    {
     "name": "stdout",
     "output_type": "stream",
     "text": [
      "None\n",
      "None\n"
     ]
    }
   ],
   "source": [
    "# Need to use JS tools to scrape info from site.\n",
    "\n",
    "\n",
    "#product_name: \n",
    "h1 = soup.find('h1')\n",
    "print(h1)\n",
    "print(name)\n"
   ]
  },
  {
   "cell_type": "markdown",
   "metadata": {},
   "source": [
    "#### 6. Export data"
   ]
  },
  {
   "cell_type": "code",
   "execution_count": 30,
   "metadata": {},
   "outputs": [],
   "source": [
    "product_information = [{'name': 'meat', 'url': 'abc', 'price': '123'},\n",
    "                      {'name': 'fish', 'url': 'abcde', 'price': '456'},\n",
    "                      {'name': 'veggie', 'url': 'xyz', 'price': '789'},\n",
    "                      {'name': 'milk', 'url': 'zzz', 'price': '10'}]"
   ]
  },
  {
   "cell_type": "code",
   "execution_count": 47,
   "metadata": {},
   "outputs": [],
   "source": [
    "#Write csv\n",
    "from csv import DictWriter\n",
    "\n"
   ]
  },
  {
   "cell_type": "code",
   "execution_count": 46,
   "metadata": {
    "scrolled": true
   },
   "outputs": [
    {
     "name": "stdout",
     "output_type": "stream",
     "text": [
      "['name', 'url', 'price']\n"
     ]
    }
   ],
   "source": [
    "def get_field_names(product_information):\n",
    "    return (list(product_information[0].keys()))\n",
    "\n",
    "\n",
    "get_field_names(product_information)"
   ]
  },
  {
   "cell_type": "code",
   "execution_count": 52,
   "metadata": {},
   "outputs": [],
   "source": [
    "with open('result.csv', 'w') as outfile:\n",
    "    fieldnames = get_field_names(product_information)\n",
    "    writer = csv.DictWriter(outfile, fieldnames = fieldnames, delimiter = ',', lineterminator = '\\n')\n",
    "    writer.writeheader()\n",
    "    for i in product_information:\n",
    "        writer.writerow(i)"
   ]
  },
  {
   "cell_type": "code",
   "execution_count": 57,
   "metadata": {},
   "outputs": [],
   "source": [
    "# Use in case product info is wrapped inside a class\n",
    "# with open('result.csv', 'w') as out2:\n",
    "#     fieldnames = get_field_names(product_information)\n",
    "#     writer = csv.DictWriter(out2, fieldnames = fieldnames, delimiter = ',', lineterminator = '\\n')\n",
    "#     writer.writeheader()\n",
    "#     writer.writerows(map(lambda p: p.__dict__, product_information))"
   ]
  },
  {
   "cell_type": "code",
   "execution_count": 58,
   "metadata": {},
   "outputs": [],
   "source": [
    "# Write JSON\n",
    "import json\n"
   ]
  },
  {
   "cell_type": "code",
   "execution_count": 59,
   "metadata": {},
   "outputs": [],
   "source": [
    "with open('r2.json', 'w') as outfile:\n",
    "    json.dump(product_information, outfile)"
   ]
  },
  {
   "cell_type": "code",
   "execution_count": null,
   "metadata": {},
   "outputs": [],
   "source": []
  }
 ],
 "metadata": {
  "kernelspec": {
   "display_name": "Python 3",
   "language": "python",
   "name": "python3"
  },
  "language_info": {
   "codemirror_mode": {
    "name": "ipython",
    "version": 3
   },
   "file_extension": ".py",
   "mimetype": "text/x-python",
   "name": "python",
   "nbconvert_exporter": "python",
   "pygments_lexer": "ipython3",
   "version": "3.7.4"
  }
 },
 "nbformat": 4,
 "nbformat_minor": 2
}
